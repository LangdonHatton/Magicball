{
 "cells": [
  {
   "cell_type": "code",
   "execution_count": 3,
   "id": "03c12701",
   "metadata": {},
   "outputs": [
    {
     "name": "stdout",
     "output_type": "stream",
     "text": [
      "Ask any yes or no question: Will Langdon win his basketball game tomorrow?\n",
      "Let me think...\n",
      "Probably, but ask again\n",
      "Would you like to ask another question? Y/N: Y\n",
      "Ask any yes or no question: Will langdon win his basketball game tomorrow?\n",
      "Let me think...\n",
      "Most likely\n",
      "Do you want to ask another question? Y/N: N\n",
      "Enter anything to exit: h\n"
     ]
    }
   ],
   "source": [
    "import random\n",
    "\n",
    "answers= [\"Yes\", \"No\", \"Unsure, ask again\", \"Absolutely not\", \"I see good things happening\", \"Never\",\n",
    "\"Negative\", \"It is possible\", \"Most likely\", \"Yes\",\"Absolutely\" ,\"No\" ,\"I cannot answer that question.\", \n",
    "'Ask the question again', \"No chance\", \"In the future\", \"100 percent\" , 'Probably, but ask again' , \n",
    "'I cannot answer that', 'Ask again tomorrow', 'Do not ask that again','That is impossible to know']\n",
    "\n",
    "def funct():\n",
    "    Userinput= input(\"Ask any yes or no question: \")\n",
    "    print(\"Let me think...\")\n",
    "    print(random.choice(answers))\n",
    "    \n",
    "funct()\n",
    "\n",
    "next= (input(\"Would you like to ask another question? Y/N: \").title())\n",
    "\n",
    "while next== str(\"Y\"):\n",
    "    funct()\n",
    "    next= (input(\"Do you want to ask another question? Y/N: \"))\n",
    "else:\n",
    "    (input(\"Enter anything to exit: \"))"
   ]
  },
  {
   "cell_type": "code",
   "execution_count": null,
   "id": "b97dd009",
   "metadata": {},
   "outputs": [],
   "source": []
  },
  {
   "cell_type": "code",
   "execution_count": null,
   "id": "6f02a566",
   "metadata": {},
   "outputs": [],
   "source": []
  }
 ],
 "metadata": {
  "kernelspec": {
   "display_name": "Python 3 (ipykernel)",
   "language": "python",
   "name": "python3"
  },
  "language_info": {
   "codemirror_mode": {
    "name": "ipython",
    "version": 3
   },
   "file_extension": ".py",
   "mimetype": "text/x-python",
   "name": "python",
   "nbconvert_exporter": "python",
   "pygments_lexer": "ipython3",
   "version": "3.9.12"
  }
 },
 "nbformat": 4,
 "nbformat_minor": 5
}
